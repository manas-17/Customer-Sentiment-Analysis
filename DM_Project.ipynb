{
  "nbformat": 4,
  "nbformat_minor": 0,
  "metadata": {
    "colab": {
      "name": "DM Project.ipynb",
      "provenance": [],
      "collapsed_sections": []
    },
    "kernelspec": {
      "name": "python3",
      "display_name": "Python 3"
    },
    "language_info": {
      "name": "python"
    }
  },
  "cells": [
    {
      "cell_type": "code",
      "metadata": {
        "id": "f3U_jHW3AH5J"
      },
      "source": [
        "import pandas as pd\n",
        "import numpy as np\n",
        "import seaborn as sns\n",
        "import matplotlib.pyplot as plt"
      ],
      "execution_count": null,
      "outputs": []
    },
    {
      "cell_type": "code",
      "metadata": {
        "colab": {
          "base_uri": "https://localhost:8080/",
          "height": 729
        },
        "id": "_9TIMtb0AORF",
        "outputId": "a3978627-e8cd-4dcd-bfaa-bd1f35b0cc0e"
      },
      "source": [
        "df=pd.read_csv(\"/content/Starbucks satisfactory survey.csv\") #reading the csv file\n",
        "df.head() #will show first 5 entries\n"
      ],
      "execution_count": null,
      "outputs": [
        {
          "output_type": "execute_result",
          "data": {
            "text/html": [
              "<div>\n",
              "<style scoped>\n",
              "    .dataframe tbody tr th:only-of-type {\n",
              "        vertical-align: middle;\n",
              "    }\n",
              "\n",
              "    .dataframe tbody tr th {\n",
              "        vertical-align: top;\n",
              "    }\n",
              "\n",
              "    .dataframe thead th {\n",
              "        text-align: right;\n",
              "    }\n",
              "</style>\n",
              "<table border=\"1\" class=\"dataframe\">\n",
              "  <thead>\n",
              "    <tr style=\"text-align: right;\">\n",
              "      <th></th>\n",
              "      <th>Timestamp</th>\n",
              "      <th>1. Your Gender</th>\n",
              "      <th>2. Your Age</th>\n",
              "      <th>3. Are you currently....?</th>\n",
              "      <th>4. What is your annual income?</th>\n",
              "      <th>5. How often do you visit Starbucks?</th>\n",
              "      <th>6. How do you usually enjoy Starbucks?</th>\n",
              "      <th>7. How much time do you normally  spend during your visit?</th>\n",
              "      <th>8. The nearest Starbucks's outlet to you is...?</th>\n",
              "      <th>9. Do you have Starbucks membership card?</th>\n",
              "      <th>10. What do you most frequently purchase at Starbucks?</th>\n",
              "      <th>11. On average, how much would you spend at Starbucks per visit?</th>\n",
              "      <th>12. How would you rate the quality of Starbucks compared to other brands (Coffee Bean, Old Town White Coffee..) to be:</th>\n",
              "      <th>13. How would you rate the price range at Starbucks?</th>\n",
              "      <th>14. How important are sales and promotions in your purchase decision?</th>\n",
              "      <th>15. How would you rate the ambiance at Starbucks? (lighting, music, etc...)</th>\n",
              "      <th>16. You rate the WiFi quality at Starbucks as..</th>\n",
              "      <th>17. How would you rate the service at Starbucks? (Promptness, friendliness, etc..)</th>\n",
              "      <th>18. How likely you will choose Starbucks for doing business meetings or hangout with friends?</th>\n",
              "      <th>19. How do you come to hear of promotions at Starbucks? Check all that apply.</th>\n",
              "      <th>20. Will you continue buying at Starbucks?</th>\n",
              "    </tr>\n",
              "  </thead>\n",
              "  <tbody>\n",
              "    <tr>\n",
              "      <th>0</th>\n",
              "      <td>2019/10/01 12:38:43 PM GMT+8</td>\n",
              "      <td>Female</td>\n",
              "      <td>From 20 to 29</td>\n",
              "      <td>Student</td>\n",
              "      <td>Less than RM25,000</td>\n",
              "      <td>Rarely</td>\n",
              "      <td>Dine in</td>\n",
              "      <td>Between 30 minutes to 1 hour</td>\n",
              "      <td>within 1km</td>\n",
              "      <td>Yes</td>\n",
              "      <td>Coffee</td>\n",
              "      <td>Less than RM20</td>\n",
              "      <td>4</td>\n",
              "      <td>3</td>\n",
              "      <td>5</td>\n",
              "      <td>5</td>\n",
              "      <td>4</td>\n",
              "      <td>4</td>\n",
              "      <td>3</td>\n",
              "      <td>Starbucks Website/Apps;Social Media;Emails;Dea...</td>\n",
              "      <td>Yes</td>\n",
              "    </tr>\n",
              "    <tr>\n",
              "      <th>1</th>\n",
              "      <td>2019/10/01 12:38:54 PM GMT+8</td>\n",
              "      <td>Female</td>\n",
              "      <td>From 20 to 29</td>\n",
              "      <td>Student</td>\n",
              "      <td>Less than RM25,000</td>\n",
              "      <td>Rarely</td>\n",
              "      <td>Take away</td>\n",
              "      <td>Below 30 minutes</td>\n",
              "      <td>1km - 3km</td>\n",
              "      <td>Yes</td>\n",
              "      <td>Cold drinks;Pastries</td>\n",
              "      <td>Less than RM20</td>\n",
              "      <td>4</td>\n",
              "      <td>3</td>\n",
              "      <td>4</td>\n",
              "      <td>4</td>\n",
              "      <td>4</td>\n",
              "      <td>5</td>\n",
              "      <td>2</td>\n",
              "      <td>Social Media;In Store displays</td>\n",
              "      <td>Yes</td>\n",
              "    </tr>\n",
              "    <tr>\n",
              "      <th>2</th>\n",
              "      <td>2019/10/01 12:38:56 PM GMT+8</td>\n",
              "      <td>Male</td>\n",
              "      <td>From 20 to 29</td>\n",
              "      <td>Employed</td>\n",
              "      <td>Less than RM25,000</td>\n",
              "      <td>Monthly</td>\n",
              "      <td>Dine in</td>\n",
              "      <td>Between 30 minutes to 1 hour</td>\n",
              "      <td>more than 3km</td>\n",
              "      <td>Yes</td>\n",
              "      <td>Coffee</td>\n",
              "      <td>Less than RM20</td>\n",
              "      <td>4</td>\n",
              "      <td>3</td>\n",
              "      <td>4</td>\n",
              "      <td>4</td>\n",
              "      <td>4</td>\n",
              "      <td>4</td>\n",
              "      <td>3</td>\n",
              "      <td>In Store displays;Billboards</td>\n",
              "      <td>Yes</td>\n",
              "    </tr>\n",
              "    <tr>\n",
              "      <th>3</th>\n",
              "      <td>2019/10/01 12:39:08 PM GMT+8</td>\n",
              "      <td>Female</td>\n",
              "      <td>From 20 to 29</td>\n",
              "      <td>Student</td>\n",
              "      <td>Less than RM25,000</td>\n",
              "      <td>Rarely</td>\n",
              "      <td>Take away</td>\n",
              "      <td>Below 30 minutes</td>\n",
              "      <td>more than 3km</td>\n",
              "      <td>No</td>\n",
              "      <td>Coffee</td>\n",
              "      <td>Less than RM20</td>\n",
              "      <td>2</td>\n",
              "      <td>1</td>\n",
              "      <td>4</td>\n",
              "      <td>3</td>\n",
              "      <td>3</td>\n",
              "      <td>3</td>\n",
              "      <td>3</td>\n",
              "      <td>Through friends and word of mouth</td>\n",
              "      <td>No</td>\n",
              "    </tr>\n",
              "    <tr>\n",
              "      <th>4</th>\n",
              "      <td>2019/10/01 12:39:20 PM GMT+8</td>\n",
              "      <td>Male</td>\n",
              "      <td>From 20 to 29</td>\n",
              "      <td>Student</td>\n",
              "      <td>Less than RM25,000</td>\n",
              "      <td>Monthly</td>\n",
              "      <td>Take away</td>\n",
              "      <td>Between 30 minutes to 1 hour</td>\n",
              "      <td>1km - 3km</td>\n",
              "      <td>No</td>\n",
              "      <td>Coffee;Sandwiches</td>\n",
              "      <td>Around RM20 - RM40</td>\n",
              "      <td>3</td>\n",
              "      <td>3</td>\n",
              "      <td>4</td>\n",
              "      <td>2</td>\n",
              "      <td>2</td>\n",
              "      <td>3</td>\n",
              "      <td>3</td>\n",
              "      <td>Starbucks Website/Apps;Social Media</td>\n",
              "      <td>Yes</td>\n",
              "    </tr>\n",
              "  </tbody>\n",
              "</table>\n",
              "</div>"
            ],
            "text/plain": [
              "                      Timestamp  ... 20. Will you continue buying at Starbucks?\n",
              "0  2019/10/01 12:38:43 PM GMT+8  ...                                        Yes\n",
              "1  2019/10/01 12:38:54 PM GMT+8  ...                                        Yes\n",
              "2  2019/10/01 12:38:56 PM GMT+8  ...                                        Yes\n",
              "3  2019/10/01 12:39:08 PM GMT+8  ...                                         No\n",
              "4  2019/10/01 12:39:20 PM GMT+8  ...                                        Yes\n",
              "\n",
              "[5 rows x 21 columns]"
            ]
          },
          "metadata": {},
          "execution_count": 86
        }
      ]
    },
    {
      "cell_type": "code",
      "metadata": {
        "id": "dpcUfS9uAkzd"
      },
      "source": [
        "#As the column names are very big sentences, we have compresed them down to short variable names.\n",
        "df.rename({'1. Your Gender' : 'Gender', '2. Your Age' : 'Age', '3. Are you currently....?' : 'Working_Status', '4. What is your annual income?' : 'Annual_Income', '5. How often do you visit Starbucks?' : 'Visit_Frequency', '6. How do you usually enjoy Starbucks?' : 'Prefered Form of Consumption', '7. How much time do you normally  spend during your visit?' : 'Visit_Time', \"8. The nearest Starbucks's outlet to you is...?\" : 'Nearest_Outlet', '9. Do you have Starbucks membership card?' : 'Membership_Status', '10. What do you most frequently purchase at Starbucks?' : 'Frequently_Purchased', '11. On average, how much would you spend at Starbucks per visit?' : 'Avg_Spend', '12. How would you rate the quality of Starbucks compared to other brands (Coffee Bean, Old Town White Coffee..) to be:' : 'Overall_Rating', '13. How would you rate the price range at Starbucks?' : 'Price_Rating', '14. How important are sales and promotions in your purchase decision?' : 'Promotion_Rating', '15. How would you rate the ambiance at Starbucks? (lighting, music, etc...)' : 'Ambiance_Rating', '16. You rate the WiFi quality at Starbucks as..' : 'Wifi_Rating', '17. How would you rate the service at Starbucks? (Promptness, friendliness, etc..)' : 'Service_Rating', '18. How likely you will choose Starbucks for doing business meetings or hangout with friends?' : 'Meeting_Rating', '19. How do you come to hear of promotions at Starbucks? Check all that apply.' : 'Promo_Ways', '20. Will you continue buying at Starbucks?' : 'Customer_Loyalty'} , inplace = True , axis = 1)"
      ],
      "execution_count": null,
      "outputs": []
    },
    {
      "cell_type": "code",
      "metadata": {
        "colab": {
          "base_uri": "https://localhost:8080/",
          "height": 521
        },
        "id": "Vts2fWgGAmuQ",
        "outputId": "c4d3bf6c-f411-4f46-8dd4-da87d355cd61"
      },
      "source": [
        "df.head()"
      ],
      "execution_count": null,
      "outputs": [
        {
          "output_type": "execute_result",
          "data": {
            "text/html": [
              "<div>\n",
              "<style scoped>\n",
              "    .dataframe tbody tr th:only-of-type {\n",
              "        vertical-align: middle;\n",
              "    }\n",
              "\n",
              "    .dataframe tbody tr th {\n",
              "        vertical-align: top;\n",
              "    }\n",
              "\n",
              "    .dataframe thead th {\n",
              "        text-align: right;\n",
              "    }\n",
              "</style>\n",
              "<table border=\"1\" class=\"dataframe\">\n",
              "  <thead>\n",
              "    <tr style=\"text-align: right;\">\n",
              "      <th></th>\n",
              "      <th>Timestamp</th>\n",
              "      <th>Gender</th>\n",
              "      <th>Age</th>\n",
              "      <th>Working_Status</th>\n",
              "      <th>Annual_Income</th>\n",
              "      <th>Visit_Frequency</th>\n",
              "      <th>Prefered Form of Consumption</th>\n",
              "      <th>Visit_Time</th>\n",
              "      <th>Nearest_Outlet</th>\n",
              "      <th>Membership_Status</th>\n",
              "      <th>Frequently_Purchased</th>\n",
              "      <th>Avg_Spend</th>\n",
              "      <th>Overall_Rating</th>\n",
              "      <th>Price_Rating</th>\n",
              "      <th>Promotion_Rating</th>\n",
              "      <th>Ambiance_Rating</th>\n",
              "      <th>Wifi_Rating</th>\n",
              "      <th>Service_Rating</th>\n",
              "      <th>Meeting_Rating</th>\n",
              "      <th>Promo_Ways</th>\n",
              "      <th>Customer_Loyalty</th>\n",
              "    </tr>\n",
              "  </thead>\n",
              "  <tbody>\n",
              "    <tr>\n",
              "      <th>0</th>\n",
              "      <td>2019/10/01 12:38:43 PM GMT+8</td>\n",
              "      <td>Female</td>\n",
              "      <td>From 20 to 29</td>\n",
              "      <td>Student</td>\n",
              "      <td>Less than RM25,000</td>\n",
              "      <td>Rarely</td>\n",
              "      <td>Dine in</td>\n",
              "      <td>Between 30 minutes to 1 hour</td>\n",
              "      <td>within 1km</td>\n",
              "      <td>Yes</td>\n",
              "      <td>Coffee</td>\n",
              "      <td>Less than RM20</td>\n",
              "      <td>4</td>\n",
              "      <td>3</td>\n",
              "      <td>5</td>\n",
              "      <td>5</td>\n",
              "      <td>4</td>\n",
              "      <td>4</td>\n",
              "      <td>3</td>\n",
              "      <td>Starbucks Website/Apps;Social Media;Emails;Dea...</td>\n",
              "      <td>Yes</td>\n",
              "    </tr>\n",
              "    <tr>\n",
              "      <th>1</th>\n",
              "      <td>2019/10/01 12:38:54 PM GMT+8</td>\n",
              "      <td>Female</td>\n",
              "      <td>From 20 to 29</td>\n",
              "      <td>Student</td>\n",
              "      <td>Less than RM25,000</td>\n",
              "      <td>Rarely</td>\n",
              "      <td>Take away</td>\n",
              "      <td>Below 30 minutes</td>\n",
              "      <td>1km - 3km</td>\n",
              "      <td>Yes</td>\n",
              "      <td>Cold drinks;Pastries</td>\n",
              "      <td>Less than RM20</td>\n",
              "      <td>4</td>\n",
              "      <td>3</td>\n",
              "      <td>4</td>\n",
              "      <td>4</td>\n",
              "      <td>4</td>\n",
              "      <td>5</td>\n",
              "      <td>2</td>\n",
              "      <td>Social Media;In Store displays</td>\n",
              "      <td>Yes</td>\n",
              "    </tr>\n",
              "    <tr>\n",
              "      <th>2</th>\n",
              "      <td>2019/10/01 12:38:56 PM GMT+8</td>\n",
              "      <td>Male</td>\n",
              "      <td>From 20 to 29</td>\n",
              "      <td>Employed</td>\n",
              "      <td>Less than RM25,000</td>\n",
              "      <td>Monthly</td>\n",
              "      <td>Dine in</td>\n",
              "      <td>Between 30 minutes to 1 hour</td>\n",
              "      <td>more than 3km</td>\n",
              "      <td>Yes</td>\n",
              "      <td>Coffee</td>\n",
              "      <td>Less than RM20</td>\n",
              "      <td>4</td>\n",
              "      <td>3</td>\n",
              "      <td>4</td>\n",
              "      <td>4</td>\n",
              "      <td>4</td>\n",
              "      <td>4</td>\n",
              "      <td>3</td>\n",
              "      <td>In Store displays;Billboards</td>\n",
              "      <td>Yes</td>\n",
              "    </tr>\n",
              "    <tr>\n",
              "      <th>3</th>\n",
              "      <td>2019/10/01 12:39:08 PM GMT+8</td>\n",
              "      <td>Female</td>\n",
              "      <td>From 20 to 29</td>\n",
              "      <td>Student</td>\n",
              "      <td>Less than RM25,000</td>\n",
              "      <td>Rarely</td>\n",
              "      <td>Take away</td>\n",
              "      <td>Below 30 minutes</td>\n",
              "      <td>more than 3km</td>\n",
              "      <td>No</td>\n",
              "      <td>Coffee</td>\n",
              "      <td>Less than RM20</td>\n",
              "      <td>2</td>\n",
              "      <td>1</td>\n",
              "      <td>4</td>\n",
              "      <td>3</td>\n",
              "      <td>3</td>\n",
              "      <td>3</td>\n",
              "      <td>3</td>\n",
              "      <td>Through friends and word of mouth</td>\n",
              "      <td>No</td>\n",
              "    </tr>\n",
              "    <tr>\n",
              "      <th>4</th>\n",
              "      <td>2019/10/01 12:39:20 PM GMT+8</td>\n",
              "      <td>Male</td>\n",
              "      <td>From 20 to 29</td>\n",
              "      <td>Student</td>\n",
              "      <td>Less than RM25,000</td>\n",
              "      <td>Monthly</td>\n",
              "      <td>Take away</td>\n",
              "      <td>Between 30 minutes to 1 hour</td>\n",
              "      <td>1km - 3km</td>\n",
              "      <td>No</td>\n",
              "      <td>Coffee;Sandwiches</td>\n",
              "      <td>Around RM20 - RM40</td>\n",
              "      <td>3</td>\n",
              "      <td>3</td>\n",
              "      <td>4</td>\n",
              "      <td>2</td>\n",
              "      <td>2</td>\n",
              "      <td>3</td>\n",
              "      <td>3</td>\n",
              "      <td>Starbucks Website/Apps;Social Media</td>\n",
              "      <td>Yes</td>\n",
              "    </tr>\n",
              "  </tbody>\n",
              "</table>\n",
              "</div>"
            ],
            "text/plain": [
              "                      Timestamp  ... Customer_Loyalty\n",
              "0  2019/10/01 12:38:43 PM GMT+8  ...              Yes\n",
              "1  2019/10/01 12:38:54 PM GMT+8  ...              Yes\n",
              "2  2019/10/01 12:38:56 PM GMT+8  ...              Yes\n",
              "3  2019/10/01 12:39:08 PM GMT+8  ...               No\n",
              "4  2019/10/01 12:39:20 PM GMT+8  ...              Yes\n",
              "\n",
              "[5 rows x 21 columns]"
            ]
          },
          "metadata": {},
          "execution_count": 88
        }
      ]
    },
    {
      "cell_type": "code",
      "metadata": {
        "colab": {
          "base_uri": "https://localhost:8080/"
        },
        "id": "7eSWdfW6BRrA",
        "outputId": "171bc4c2-4621-4061-a058-6ac4c69bfe10"
      },
      "source": [
        "#Shows basic datatypes, columnames, and nuul/non-null count.\n",
        "df.info()"
      ],
      "execution_count": null,
      "outputs": [
        {
          "output_type": "stream",
          "name": "stdout",
          "text": [
            "<class 'pandas.core.frame.DataFrame'>\n",
            "RangeIndex: 122 entries, 0 to 121\n",
            "Data columns (total 21 columns):\n",
            " #   Column                        Non-Null Count  Dtype \n",
            "---  ------                        --------------  ----- \n",
            " 0   Timestamp                     122 non-null    object\n",
            " 1   Gender                        122 non-null    object\n",
            " 2   Age                           122 non-null    object\n",
            " 3   Working_Status                122 non-null    object\n",
            " 4   Annual_Income                 122 non-null    object\n",
            " 5   Visit_Frequency               122 non-null    object\n",
            " 6   Prefered Form of Consumption  121 non-null    object\n",
            " 7   Visit_Time                    122 non-null    object\n",
            " 8   Nearest_Outlet                122 non-null    object\n",
            " 9   Membership_Status             122 non-null    object\n",
            " 10  Frequently_Purchased          122 non-null    object\n",
            " 11  Avg_Spend                     122 non-null    object\n",
            " 12  Overall_Rating                122 non-null    int64 \n",
            " 13  Price_Rating                  122 non-null    int64 \n",
            " 14  Promotion_Rating              122 non-null    int64 \n",
            " 15  Ambiance_Rating               122 non-null    int64 \n",
            " 16  Wifi_Rating                   122 non-null    int64 \n",
            " 17  Service_Rating                122 non-null    int64 \n",
            " 18  Meeting_Rating                122 non-null    int64 \n",
            " 19  Promo_Ways                    121 non-null    object\n",
            " 20  Customer_Loyalty              122 non-null    object\n",
            "dtypes: int64(7), object(14)\n",
            "memory usage: 20.1+ KB\n"
          ]
        }
      ]
    },
    {
      "cell_type": "code",
      "metadata": {
        "colab": {
          "base_uri": "https://localhost:8080/"
        },
        "id": "cA6bFjWHBdyj",
        "outputId": "c4b084a1-1013-46aa-92a4-4bcfb9d27152"
      },
      "source": [
        "#Cleaned the data by deleting the tuples having na/NA values\n",
        "df=df.dropna()\n",
        "df.info()"
      ],
      "execution_count": null,
      "outputs": [
        {
          "output_type": "stream",
          "name": "stdout",
          "text": [
            "<class 'pandas.core.frame.DataFrame'>\n",
            "Int64Index: 121 entries, 0 to 121\n",
            "Data columns (total 21 columns):\n",
            " #   Column                        Non-Null Count  Dtype \n",
            "---  ------                        --------------  ----- \n",
            " 0   Timestamp                     121 non-null    object\n",
            " 1   Gender                        121 non-null    object\n",
            " 2   Age                           121 non-null    object\n",
            " 3   Working_Status                121 non-null    object\n",
            " 4   Annual_Income                 121 non-null    object\n",
            " 5   Visit_Frequency               121 non-null    object\n",
            " 6   Prefered Form of Consumption  121 non-null    object\n",
            " 7   Visit_Time                    121 non-null    object\n",
            " 8   Nearest_Outlet                121 non-null    object\n",
            " 9   Membership_Status             121 non-null    object\n",
            " 10  Frequently_Purchased          121 non-null    object\n",
            " 11  Avg_Spend                     121 non-null    object\n",
            " 12  Overall_Rating                121 non-null    int64 \n",
            " 13  Price_Rating                  121 non-null    int64 \n",
            " 14  Promotion_Rating              121 non-null    int64 \n",
            " 15  Ambiance_Rating               121 non-null    int64 \n",
            " 16  Wifi_Rating                   121 non-null    int64 \n",
            " 17  Service_Rating                121 non-null    int64 \n",
            " 18  Meeting_Rating                121 non-null    int64 \n",
            " 19  Promo_Ways                    121 non-null    object\n",
            " 20  Customer_Loyalty              121 non-null    object\n",
            "dtypes: int64(7), object(14)\n",
            "memory usage: 20.8+ KB\n"
          ]
        }
      ]
    },
    {
      "cell_type": "code",
      "metadata": {
        "colab": {
          "base_uri": "https://localhost:8080/"
        },
        "id": "1rmdocmnCccg",
        "outputId": "80d689e3-d4ff-47f9-ef54-5b14cf4db969"
      },
      "source": [
        "#for showing number of unique values in each column\n",
        "for column in df.columns:\n",
        "    print('{} column: {} unique values'.format(column,df[column].nunique()))"
      ],
      "execution_count": null,
      "outputs": [
        {
          "output_type": "stream",
          "name": "stdout",
          "text": [
            "Timestamp column: 121 unique values\n",
            "Gender column: 2 unique values\n",
            "Age column: 4 unique values\n",
            "Working_Status column: 4 unique values\n",
            "Annual_Income column: 5 unique values\n",
            "Visit_Frequency column: 5 unique values\n",
            "Prefered Form of Consumption column: 8 unique values\n",
            "Visit_Time column: 5 unique values\n",
            "Nearest_Outlet column: 3 unique values\n",
            "Membership_Status column: 2 unique values\n",
            "Frequently_Purchased column: 19 unique values\n",
            "Avg_Spend column: 4 unique values\n",
            "Overall_Rating column: 5 unique values\n",
            "Price_Rating column: 5 unique values\n",
            "Promotion_Rating column: 5 unique values\n",
            "Ambiance_Rating column: 5 unique values\n",
            "Wifi_Rating column: 5 unique values\n",
            "Service_Rating column: 5 unique values\n",
            "Meeting_Rating column: 5 unique values\n",
            "Promo_Ways column: 31 unique values\n",
            "Customer_Loyalty column: 2 unique values\n"
          ]
        }
      ]
    },
    {
      "cell_type": "code",
      "metadata": {
        "id": "OLyqLlNBA9_2"
      },
      "source": [
        "#Replacing repeated values into a single value thus reducing number of unique values.\n",
        "df['Prefered Form of Consumption'] = df['Prefered Form of Consumption'].replace({'Never':'None','never':'None','Never buy':'None','Never ':'None','I dont like coffee':'None'})\n",
        "df['Frequently_Purchased'] = df['Frequently_Purchased'].replace({'Never buy any':'Nothing','never':'Nothing','Never':'Nothing','Jaws chip ':'Jaws Chip','cake ':'Cake'})\n",
        "\n",
        "#Giving rank to the visit frequencies by replacing them into integer values.\n",
        "df['Visit_Frequency'] = df['Visit_Frequency'].replace({'Never':0, 'Rarely':1,'Monthly':2,'Weekly':3,\"Daily\":4})\n"
      ],
      "execution_count": null,
      "outputs": []
    },
    {
      "cell_type": "code",
      "metadata": {
        "id": "KFEXrxNpWWL9"
      },
      "source": [
        "#deleting the tuples where the visit frequencies are 0(i.e. the customer has never visited)\n",
        "df=df[(df.Visit_Frequency != 0)]"
      ],
      "execution_count": null,
      "outputs": []
    },
    {
      "cell_type": "code",
      "metadata": {
        "colab": {
          "base_uri": "https://localhost:8080/"
        },
        "id": "o6hXsd4aWwzT",
        "outputId": "26b1681a-bc52-486c-dfa8-783f5a95fdf6"
      },
      "source": [
        "df.info()"
      ],
      "execution_count": null,
      "outputs": [
        {
          "output_type": "stream",
          "name": "stdout",
          "text": [
            "<class 'pandas.core.frame.DataFrame'>\n",
            "Int64Index: 113 entries, 0 to 121\n",
            "Data columns (total 21 columns):\n",
            " #   Column                        Non-Null Count  Dtype \n",
            "---  ------                        --------------  ----- \n",
            " 0   Timestamp                     113 non-null    object\n",
            " 1   Gender                        113 non-null    object\n",
            " 2   Age                           113 non-null    object\n",
            " 3   Working_Status                113 non-null    object\n",
            " 4   Annual_Income                 113 non-null    object\n",
            " 5   Visit_Frequency               113 non-null    int64 \n",
            " 6   Prefered Form of Consumption  113 non-null    object\n",
            " 7   Visit_Time                    113 non-null    object\n",
            " 8   Nearest_Outlet                113 non-null    object\n",
            " 9   Membership_Status             113 non-null    object\n",
            " 10  Frequently_Purchased          113 non-null    object\n",
            " 11  Avg_Spend                     113 non-null    object\n",
            " 12  Overall_Rating                113 non-null    int64 \n",
            " 13  Price_Rating                  113 non-null    int64 \n",
            " 14  Promotion_Rating              113 non-null    int64 \n",
            " 15  Ambiance_Rating               113 non-null    int64 \n",
            " 16  Wifi_Rating                   113 non-null    int64 \n",
            " 17  Service_Rating                113 non-null    int64 \n",
            " 18  Meeting_Rating                113 non-null    int64 \n",
            " 19  Promo_Ways                    113 non-null    object\n",
            " 20  Customer_Loyalty              113 non-null    object\n",
            "dtypes: int64(8), object(13)\n",
            "memory usage: 19.4+ KB\n"
          ]
        }
      ]
    },
    {
      "cell_type": "code",
      "metadata": {
        "colab": {
          "base_uri": "https://localhost:8080/"
        },
        "id": "IZQaA_g1ChbF",
        "outputId": "edb5cd71-7f4f-4084-9c3d-3354a199c1ab"
      },
      "source": [
        "#After replacing and cleanig the data, we can see that the number of unique values have reduced.\n",
        "for column in df.columns:\n",
        "    print('{} column: {} unique values'.format(column,df[column].nunique()))"
      ],
      "execution_count": null,
      "outputs": [
        {
          "output_type": "stream",
          "name": "stdout",
          "text": [
            "Timestamp column: 113 unique values\n",
            "Gender column: 2 unique values\n",
            "Age column: 4 unique values\n",
            "Working_Status column: 4 unique values\n",
            "Annual_Income column: 5 unique values\n",
            "Visit_Frequency column: 4 unique values\n",
            "Prefered Form of Consumption column: 4 unique values\n",
            "Visit_Time column: 5 unique values\n",
            "Nearest_Outlet column: 3 unique values\n",
            "Membership_Status column: 2 unique values\n",
            "Frequently_Purchased column: 15 unique values\n",
            "Avg_Spend column: 4 unique values\n",
            "Overall_Rating column: 5 unique values\n",
            "Price_Rating column: 5 unique values\n",
            "Promotion_Rating column: 5 unique values\n",
            "Ambiance_Rating column: 5 unique values\n",
            "Wifi_Rating column: 5 unique values\n",
            "Service_Rating column: 4 unique values\n",
            "Meeting_Rating column: 5 unique values\n",
            "Promo_Ways column: 29 unique values\n",
            "Customer_Loyalty column: 2 unique values\n"
          ]
        }
      ]
    },
    {
      "cell_type": "code",
      "metadata": {
        "colab": {
          "base_uri": "https://localhost:8080/",
          "height": 521
        },
        "id": "xT7Z-kC9DkCR",
        "outputId": "102b8efc-20c8-4164-d7f0-7b73311a8a34"
      },
      "source": [
        "df.head()"
      ],
      "execution_count": null,
      "outputs": [
        {
          "output_type": "execute_result",
          "data": {
            "text/html": [
              "<div>\n",
              "<style scoped>\n",
              "    .dataframe tbody tr th:only-of-type {\n",
              "        vertical-align: middle;\n",
              "    }\n",
              "\n",
              "    .dataframe tbody tr th {\n",
              "        vertical-align: top;\n",
              "    }\n",
              "\n",
              "    .dataframe thead th {\n",
              "        text-align: right;\n",
              "    }\n",
              "</style>\n",
              "<table border=\"1\" class=\"dataframe\">\n",
              "  <thead>\n",
              "    <tr style=\"text-align: right;\">\n",
              "      <th></th>\n",
              "      <th>Timestamp</th>\n",
              "      <th>Gender</th>\n",
              "      <th>Age</th>\n",
              "      <th>Working_Status</th>\n",
              "      <th>Annual_Income</th>\n",
              "      <th>Visit_Frequency</th>\n",
              "      <th>Prefered Form of Consumption</th>\n",
              "      <th>Visit_Time</th>\n",
              "      <th>Nearest_Outlet</th>\n",
              "      <th>Membership_Status</th>\n",
              "      <th>Frequently_Purchased</th>\n",
              "      <th>Avg_Spend</th>\n",
              "      <th>Overall_Rating</th>\n",
              "      <th>Price_Rating</th>\n",
              "      <th>Promotion_Rating</th>\n",
              "      <th>Ambiance_Rating</th>\n",
              "      <th>Wifi_Rating</th>\n",
              "      <th>Service_Rating</th>\n",
              "      <th>Meeting_Rating</th>\n",
              "      <th>Promo_Ways</th>\n",
              "      <th>Customer_Loyalty</th>\n",
              "    </tr>\n",
              "  </thead>\n",
              "  <tbody>\n",
              "    <tr>\n",
              "      <th>0</th>\n",
              "      <td>2019/10/01 12:38:43 PM GMT+8</td>\n",
              "      <td>Female</td>\n",
              "      <td>From 20 to 29</td>\n",
              "      <td>Student</td>\n",
              "      <td>Less than RM25,000</td>\n",
              "      <td>1</td>\n",
              "      <td>Dine in</td>\n",
              "      <td>Between 30 minutes to 1 hour</td>\n",
              "      <td>within 1km</td>\n",
              "      <td>Yes</td>\n",
              "      <td>Coffee</td>\n",
              "      <td>Less than RM20</td>\n",
              "      <td>4</td>\n",
              "      <td>3</td>\n",
              "      <td>5</td>\n",
              "      <td>5</td>\n",
              "      <td>4</td>\n",
              "      <td>4</td>\n",
              "      <td>3</td>\n",
              "      <td>Starbucks Website/Apps;Social Media;Emails;Dea...</td>\n",
              "      <td>Yes</td>\n",
              "    </tr>\n",
              "    <tr>\n",
              "      <th>1</th>\n",
              "      <td>2019/10/01 12:38:54 PM GMT+8</td>\n",
              "      <td>Female</td>\n",
              "      <td>From 20 to 29</td>\n",
              "      <td>Student</td>\n",
              "      <td>Less than RM25,000</td>\n",
              "      <td>1</td>\n",
              "      <td>Take away</td>\n",
              "      <td>Below 30 minutes</td>\n",
              "      <td>1km - 3km</td>\n",
              "      <td>Yes</td>\n",
              "      <td>Cold drinks;Pastries</td>\n",
              "      <td>Less than RM20</td>\n",
              "      <td>4</td>\n",
              "      <td>3</td>\n",
              "      <td>4</td>\n",
              "      <td>4</td>\n",
              "      <td>4</td>\n",
              "      <td>5</td>\n",
              "      <td>2</td>\n",
              "      <td>Social Media;In Store displays</td>\n",
              "      <td>Yes</td>\n",
              "    </tr>\n",
              "    <tr>\n",
              "      <th>2</th>\n",
              "      <td>2019/10/01 12:38:56 PM GMT+8</td>\n",
              "      <td>Male</td>\n",
              "      <td>From 20 to 29</td>\n",
              "      <td>Employed</td>\n",
              "      <td>Less than RM25,000</td>\n",
              "      <td>2</td>\n",
              "      <td>Dine in</td>\n",
              "      <td>Between 30 minutes to 1 hour</td>\n",
              "      <td>more than 3km</td>\n",
              "      <td>Yes</td>\n",
              "      <td>Coffee</td>\n",
              "      <td>Less than RM20</td>\n",
              "      <td>4</td>\n",
              "      <td>3</td>\n",
              "      <td>4</td>\n",
              "      <td>4</td>\n",
              "      <td>4</td>\n",
              "      <td>4</td>\n",
              "      <td>3</td>\n",
              "      <td>In Store displays;Billboards</td>\n",
              "      <td>Yes</td>\n",
              "    </tr>\n",
              "    <tr>\n",
              "      <th>3</th>\n",
              "      <td>2019/10/01 12:39:08 PM GMT+8</td>\n",
              "      <td>Female</td>\n",
              "      <td>From 20 to 29</td>\n",
              "      <td>Student</td>\n",
              "      <td>Less than RM25,000</td>\n",
              "      <td>1</td>\n",
              "      <td>Take away</td>\n",
              "      <td>Below 30 minutes</td>\n",
              "      <td>more than 3km</td>\n",
              "      <td>No</td>\n",
              "      <td>Coffee</td>\n",
              "      <td>Less than RM20</td>\n",
              "      <td>2</td>\n",
              "      <td>1</td>\n",
              "      <td>4</td>\n",
              "      <td>3</td>\n",
              "      <td>3</td>\n",
              "      <td>3</td>\n",
              "      <td>3</td>\n",
              "      <td>Through friends and word of mouth</td>\n",
              "      <td>No</td>\n",
              "    </tr>\n",
              "    <tr>\n",
              "      <th>4</th>\n",
              "      <td>2019/10/01 12:39:20 PM GMT+8</td>\n",
              "      <td>Male</td>\n",
              "      <td>From 20 to 29</td>\n",
              "      <td>Student</td>\n",
              "      <td>Less than RM25,000</td>\n",
              "      <td>2</td>\n",
              "      <td>Take away</td>\n",
              "      <td>Between 30 minutes to 1 hour</td>\n",
              "      <td>1km - 3km</td>\n",
              "      <td>No</td>\n",
              "      <td>Coffee;Sandwiches</td>\n",
              "      <td>Around RM20 - RM40</td>\n",
              "      <td>3</td>\n",
              "      <td>3</td>\n",
              "      <td>4</td>\n",
              "      <td>2</td>\n",
              "      <td>2</td>\n",
              "      <td>3</td>\n",
              "      <td>3</td>\n",
              "      <td>Starbucks Website/Apps;Social Media</td>\n",
              "      <td>Yes</td>\n",
              "    </tr>\n",
              "  </tbody>\n",
              "</table>\n",
              "</div>"
            ],
            "text/plain": [
              "                      Timestamp  ... Customer_Loyalty\n",
              "0  2019/10/01 12:38:43 PM GMT+8  ...              Yes\n",
              "1  2019/10/01 12:38:54 PM GMT+8  ...              Yes\n",
              "2  2019/10/01 12:38:56 PM GMT+8  ...              Yes\n",
              "3  2019/10/01 12:39:08 PM GMT+8  ...               No\n",
              "4  2019/10/01 12:39:20 PM GMT+8  ...              Yes\n",
              "\n",
              "[5 rows x 21 columns]"
            ]
          },
          "metadata": {},
          "execution_count": 96
        }
      ]
    },
    {
      "cell_type": "markdown",
      "metadata": {
        "id": "CjaW76vFo_co"
      },
      "source": [
        "MAKING BAR-GRAPHS FOR DIFFERENT COLUMNS OF DATASET"
      ]
    },
    {
      "cell_type": "code",
      "metadata": {
        "colab": {
          "base_uri": "https://localhost:8080/",
          "height": 295
        },
        "id": "_rEa6V5LDrlS",
        "outputId": "4556b9ef-d99d-4e02-b344-b14fbea84e0c"
      },
      "source": [
        "gender_count={}\n",
        "for i in df.Gender:\n",
        "  if i not in gender_count:\n",
        "    gender_count[i] = 1\n",
        "  else:\n",
        "    gender_count[i] += 1\n",
        "genders = list(gender_count.keys())\n",
        "values = gender_count.values()\n",
        "plt.bar(range(len(gender_count)), values, tick_label=genders, color=\"maroon\", width=0.55)\n",
        "plt.title(\"Gender counts\")\n",
        "plt.xlabel(\"Gender\")\n",
        "plt.ylabel(\"Frequency\")\n",
        "plt.show()"
      ],
      "execution_count": null,
      "outputs": [
        {
          "output_type": "display_data",
          "data": {
            "image/png": "[encoded data removed]",
            "text/plain": [
              "<Figure size 432x288 with 1 Axes>"
            ]
          },
          "metadata": {
            "needs_background": "light"
          }
        }
      ]
    },
    {
      "cell_type": "markdown",
      "metadata": {
        "id": "AaF_-UpxpSTq"
      },
      "source": [
        "Here we can observe that number of female customers are comparitively more than the male customers\n"
      ]
    },
    {
      "cell_type": "code",
      "metadata": {
        "colab": {
          "base_uri": "https://localhost:8080/",
          "height": 295
        },
        "id": "0WT8it_6EbZS",
        "outputId": "748623b0-7f0d-4bdf-8787-e66be100deec"
      },
      "source": [
        "consumption_count={}\n",
        "for i in df['Prefered Form of Consumption']:\n",
        "  if i not in consumption_count:\n",
        "    consumption_count[i] = 1\n",
        "  else:\n",
        "    consumption_count[i] += 1\n",
        "consumptions = list(consumption_count.keys())\n",
        "values = consumption_count.values()\n",
        "plt.bar(range(len(consumption_count)), values, tick_label=consumptions, color=\"blue\", width=0.45)\n",
        "plt.title(\"Prefered Form of Consumption\")\n",
        "plt.xlabel(\"Category\")\n",
        "plt.ylabel(\"Frequency\")\n",
        "plt.show()"
      ],
      "execution_count": null,
      "outputs": [
        {
          "output_type": "display_data",
          "data": {
            "image/png": "[encoded data removed]",
            "text/plain": [
              "<Figure size 432x288 with 1 Axes>"
            ]
          },
          "metadata": {
            "needs_background": "light"
          }
        }
      ]
    },
    {
      "cell_type": "markdown",
      "metadata": {
        "id": "tNBAvXCWpdCI"
      },
      "source": [
        "More people prefer Take away than dine-in."
      ]
    },
    {
      "cell_type": "code",
      "metadata": {
        "colab": {
          "base_uri": "https://localhost:8080/",
          "height": 295
        },
        "id": "fC9LYDHeFSnQ",
        "outputId": "b7a5d538-5d30-4547-d607-eb97602b1aa3"
      },
      "source": [
        "work_count={}\n",
        "for i in df['Working_Status']:\n",
        "  if i not in work_count:\n",
        "    work_count[i] = 1\n",
        "  else:\n",
        "    work_count[i] += 1\n",
        "works = list(work_count.keys())\n",
        "values = work_count.values()\n",
        "plt.bar(range(len(work_count)), values, tick_label=works, color=\"green\", width=0.45)\n",
        "plt.title(\"Working Status of Customers\")\n",
        "plt.xlabel(\"Category\")\n",
        "plt.ylabel(\"Frequency\")\n",
        "plt.show()"
      ],
      "execution_count": null,
      "outputs": [
        {
          "output_type": "display_data",
          "data": {
            "image/png": "[encoded data removed]",
            "text/plain": [
              "<Figure size 432x288 with 1 Axes>"
            ]
          },
          "metadata": {
            "needs_background": "light"
          }
        }
      ]
    },
    {
      "cell_type": "markdown",
      "metadata": {
        "id": "gUNqXojPp-oS"
      },
      "source": [
        "Number of working people and student are more than the others."
      ]
    },
    {
      "cell_type": "code",
      "metadata": {
        "colab": {
          "base_uri": "https://localhost:8080/",
          "height": 295
        },
        "id": "Jn87HzXWGRw0",
        "outputId": "9f108570-390d-4952-8d99-5c264aee7219"
      },
      "source": [
        "age_count={}\n",
        "for i in df['Age']:\n",
        "  if i not in age_count:\n",
        "    age_count[i] = 1\n",
        "  else:\n",
        "    age_count[i] += 1\n",
        "ages = list(age_count.keys())\n",
        "values = age_count.values()\n",
        "plt.bar(range(len(age_count)),values, tick_label=ages, color=\"yellow\", width=0.45 )\n",
        "plt.title(\"Age Range of Customers\")\n",
        "plt.xlabel(\"Category\")\n",
        "plt.ylabel(\"Frequency\")\n",
        "plt.show()"
      ],
      "execution_count": null,
      "outputs": [
        {
          "output_type": "display_data",
          "data": {
            "image/png": "[encoded data removed]",
            "text/plain": [
              "<Figure size 432x288 with 1 Axes>"
            ]
          },
          "metadata": {
            "needs_background": "light"
          }
        }
      ]
    },
    {
      "cell_type": "markdown",
      "metadata": {
        "id": "fXqoNuE8qIyK"
      },
      "source": [
        "As we saw that students and employed workers are a majority, we can also see that people of age group 20-29 are the most frequent visitors."
      ]
    },
    {
      "cell_type": "code",
      "metadata": {
        "colab": {
          "base_uri": "https://localhost:8080/",
          "height": 295
        },
        "id": "REilG4blD5xC",
        "outputId": "7c957cca-0c15-4fe9-c219-f6a3d3c0566b"
      },
      "source": [
        "near_count={}\n",
        "for i in df['Nearest_Outlet']:\n",
        "  if i not in near_count:\n",
        "    near_count[i] = 1\n",
        "  else:\n",
        "    near_count[i] += 1\n",
        "nears = list(near_count.keys())\n",
        "values = near_count.values()\n",
        "plt.bar(range(len(near_count)),values, tick_label=nears, color=\"cyan\", width=0.45 )\n",
        "plt.title(\"Nearest Outlet Range\")\n",
        "plt.xlabel(\"Category\")\n",
        "plt.ylabel(\"Frequency\")\n",
        "plt.show()"
      ],
      "execution_count": null,
      "outputs": [
        {
          "output_type": "display_data",
          "data": {
            "image/png": "[encoded data removed]",
            "text/plain": [
              "<Figure size 432x288 with 1 Axes>"
            ]
          },
          "metadata": {
            "needs_background": "light"
          }
        }
      ]
    },
    {
      "cell_type": "markdown",
      "metadata": {
        "id": "Fa4BL6JRqkql"
      },
      "source": [
        "As we know that Starbucks is a luxury coffee chain, we ca see that customers are willing to travel large distances in order to have a coffee."
      ]
    },
    {
      "cell_type": "code",
      "metadata": {
        "colab": {
          "base_uri": "https://localhost:8080/",
          "height": 295
        },
        "id": "nPTiqIMHLu_j",
        "outputId": "023d2fae-8b70-44e9-abbe-ffd2cbca107d"
      },
      "source": [
        "frequency_count={}\n",
        "for i in df['Visit_Frequency']:\n",
        "  if i not in frequency_count:\n",
        "    frequency_count[i] = 1\n",
        "  else:\n",
        "    frequency_count[i] += 1\n",
        "frequencys = list(frequency_count.keys())\n",
        "values = frequency_count.values()\n",
        "plt.bar(range(len(frequency_count)),values, tick_label=frequencys, color=\"purple\", width=0.45 )\n",
        "plt.title(\"Visit Frequency of Customers\")\n",
        "plt.xlabel(\"Per Month\")\n",
        "plt.ylabel(\"Frequency\")\n",
        "plt.show()\n",
        "\n",
        "#1-rarely\n",
        "#2-monthly\n",
        "#3-weekly\n",
        "#4-daily"
      ],
      "execution_count": null,
      "outputs": [
        {
          "output_type": "display_data",
          "data": {
            "image/png": "[encoded data removed]",
            "text/plain": [
              "<Figure size 432x288 with 1 Axes>"
            ]
          },
          "metadata": {
            "needs_background": "light"
          }
        }
      ]
    },
    {
      "cell_type": "markdown",
      "metadata": {
        "id": "SsxM20Ttq2VJ"
      },
      "source": [
        "We can see that the customers don't visit starbucks very frequently."
      ]
    },
    {
      "cell_type": "code",
      "metadata": {
        "colab": {
          "base_uri": "https://localhost:8080/",
          "height": 320
        },
        "id": "gVuTl4J1kpMO",
        "outputId": "7b94159e-b199-4f83-c578-bcbd71139f7b"
      },
      "source": [
        "#Tells us about the count, mean, median, min/max values and gives IQR i.e. Q1(25%),Q3(75%)\n",
        "df.describe()"
      ],
      "execution_count": null,
      "outputs": [
        {
          "output_type": "execute_result",
          "data": {
            "text/html": [
              "<div>\n",
              "<style scoped>\n",
              "    .dataframe tbody tr th:only-of-type {\n",
              "        vertical-align: middle;\n",
              "    }\n",
              "\n",
              "    .dataframe tbody tr th {\n",
              "        vertical-align: top;\n",
              "    }\n",
              "\n",
              "    .dataframe thead th {\n",
              "        text-align: right;\n",
              "    }\n",
              "</style>\n",
              "<table border=\"1\" class=\"dataframe\">\n",
              "  <thead>\n",
              "    <tr style=\"text-align: right;\">\n",
              "      <th></th>\n",
              "      <th>Visit_Frequency</th>\n",
              "      <th>Overall_Rating</th>\n",
              "      <th>Price_Rating</th>\n",
              "      <th>Promotion_Rating</th>\n",
              "      <th>Ambiance_Rating</th>\n",
              "      <th>Wifi_Rating</th>\n",
              "      <th>Service_Rating</th>\n",
              "      <th>Meeting_Rating</th>\n",
              "    </tr>\n",
              "  </thead>\n",
              "  <tbody>\n",
              "    <tr>\n",
              "      <th>count</th>\n",
              "      <td>113.000000</td>\n",
              "      <td>113.000000</td>\n",
              "      <td>113.000000</td>\n",
              "      <td>113.000000</td>\n",
              "      <td>113.000000</td>\n",
              "      <td>113.000000</td>\n",
              "      <td>113.000000</td>\n",
              "      <td>113.000000</td>\n",
              "    </tr>\n",
              "    <tr>\n",
              "      <th>mean</th>\n",
              "      <td>1.442478</td>\n",
              "      <td>3.743363</td>\n",
              "      <td>2.929204</td>\n",
              "      <td>3.876106</td>\n",
              "      <td>3.840708</td>\n",
              "      <td>3.283186</td>\n",
              "      <td>3.814159</td>\n",
              "      <td>3.539823</td>\n",
              "    </tr>\n",
              "    <tr>\n",
              "      <th>std</th>\n",
              "      <td>0.718854</td>\n",
              "      <td>0.894215</td>\n",
              "      <td>1.083289</td>\n",
              "      <td>1.036243</td>\n",
              "      <td>0.861543</td>\n",
              "      <td>0.967960</td>\n",
              "      <td>0.796742</td>\n",
              "      <td>1.026744</td>\n",
              "    </tr>\n",
              "    <tr>\n",
              "      <th>min</th>\n",
              "      <td>1.000000</td>\n",
              "      <td>1.000000</td>\n",
              "      <td>1.000000</td>\n",
              "      <td>1.000000</td>\n",
              "      <td>1.000000</td>\n",
              "      <td>1.000000</td>\n",
              "      <td>2.000000</td>\n",
              "      <td>1.000000</td>\n",
              "    </tr>\n",
              "    <tr>\n",
              "      <th>25%</th>\n",
              "      <td>1.000000</td>\n",
              "      <td>3.000000</td>\n",
              "      <td>2.000000</td>\n",
              "      <td>3.000000</td>\n",
              "      <td>3.000000</td>\n",
              "      <td>3.000000</td>\n",
              "      <td>3.000000</td>\n",
              "      <td>3.000000</td>\n",
              "    </tr>\n",
              "    <tr>\n",
              "      <th>50%</th>\n",
              "      <td>1.000000</td>\n",
              "      <td>4.000000</td>\n",
              "      <td>3.000000</td>\n",
              "      <td>4.000000</td>\n",
              "      <td>4.000000</td>\n",
              "      <td>3.000000</td>\n",
              "      <td>4.000000</td>\n",
              "      <td>4.000000</td>\n",
              "    </tr>\n",
              "    <tr>\n",
              "      <th>75%</th>\n",
              "      <td>2.000000</td>\n",
              "      <td>4.000000</td>\n",
              "      <td>4.000000</td>\n",
              "      <td>5.000000</td>\n",
              "      <td>4.000000</td>\n",
              "      <td>4.000000</td>\n",
              "      <td>4.000000</td>\n",
              "      <td>4.000000</td>\n",
              "    </tr>\n",
              "    <tr>\n",
              "      <th>max</th>\n",
              "      <td>4.000000</td>\n",
              "      <td>5.000000</td>\n",
              "      <td>5.000000</td>\n",
              "      <td>5.000000</td>\n",
              "      <td>5.000000</td>\n",
              "      <td>5.000000</td>\n",
              "      <td>5.000000</td>\n",
              "      <td>5.000000</td>\n",
              "    </tr>\n",
              "  </tbody>\n",
              "</table>\n",
              "</div>"
            ],
            "text/plain": [
              "       Visit_Frequency  Overall_Rating  ...  Service_Rating  Meeting_Rating\n",
              "count       113.000000      113.000000  ...      113.000000      113.000000\n",
              "mean          1.442478        3.743363  ...        3.814159        3.539823\n",
              "std           0.718854        0.894215  ...        0.796742        1.026744\n",
              "min           1.000000        1.000000  ...        2.000000        1.000000\n",
              "25%           1.000000        3.000000  ...        3.000000        3.000000\n",
              "50%           1.000000        4.000000  ...        4.000000        4.000000\n",
              "75%           2.000000        4.000000  ...        4.000000        4.000000\n",
              "max           4.000000        5.000000  ...        5.000000        5.000000\n",
              "\n",
              "[8 rows x 8 columns]"
            ]
          },
          "metadata": {},
          "execution_count": 103
        }
      ]
    },
    {
      "cell_type": "code",
      "metadata": {
        "colab": {
          "base_uri": "https://localhost:8080/"
        },
        "id": "qLbplQ2euL8p",
        "outputId": "7981fe16-9269-47ee-b317-7a4252e8cfed"
      },
      "source": [
        "#Extractig columns with integer values\n",
        "num_cols = df.select_dtypes(include='int64').columns\n",
        "num_cols\n"
      ],
      "execution_count": null,
      "outputs": [
        {
          "output_type": "execute_result",
          "data": {
            "text/plain": [
              "Index(['Visit_Frequency', 'Overall_Rating', 'Price_Rating', 'Promotion_Rating',\n",
              "       'Ambiance_Rating', 'Wifi_Rating', 'Service_Rating', 'Meeting_Rating'],\n",
              "      dtype='object')"
            ]
          },
          "metadata": {},
          "execution_count": 104
        }
      ]
    },
    {
      "cell_type": "markdown",
      "metadata": {
        "id": "SJxbLBdLsT9Q"
      },
      "source": [
        "MAKIG BOX PLOTS OF ALL THE INTEGER VALUE COLUMNS."
      ]
    },
    {
      "cell_type": "code",
      "metadata": {
        "colab": {
          "base_uri": "https://localhost:8080/",
          "height": 1000
        },
        "id": "g-qm0n69i1iK",
        "outputId": "68a8acab-493d-4df0-9b46-c1714a1cbd15"
      },
      "source": [
        "def plot_numeric(df,x):\n",
        "    plt.figure(figsize=(10,8))\n",
        "    plt.boxplot(df[i], vert=True)\n",
        "    plt.show()\n",
        "    print('Quantiles')\n",
        "    print(df[i].quantile([0.01,0.03,0.1,0.2,0.5,0.75,0.9,1.0]))\n",
        "    \n",
        "for i in num_cols:\n",
        "    print(\"Plots for Column: \"+ i)\n",
        "    plot_numeric(df,i)\n",
        "    print(\"\\n\")"
      ],
      "execution_count": null,
      "outputs": [
        {
          "output_type": "stream",
          "name": "stdout",
          "text": [
            "Plots for Column: Visit_Frequency\n"
          ]
        },
        {
          "output_type": "display_data",
          "data": {
            "image/png": "[encoded data removed]",
            "text/plain": [
              "<Figure size 720x576 with 1 Axes>"
            ]
          },
          "metadata": {
            "needs_background": "light"
          }
        },
        {
          "output_type": "stream",
          "name": "stdout",
          "text": [
            "Quantiles\n",
            "0.01    1.0\n",
            "0.03    1.0\n",
            "0.10    1.0\n",
            "0.20    1.0\n",
            "0.50    1.0\n",
            "0.75    2.0\n",
            "0.90    2.0\n",
            "1.00    4.0\n",
            "Name: Visit_Frequency, dtype: float64\n",
            "\n",
            "\n",
            "Plots for Column: Overall_Rating\n"
          ]
        },
        {
          "output_type": "display_data",
          "data": {
            "image/png": "[encoded data removed]",
            "text/plain": [
              "<Figure size 720x576 with 1 Axes>"
            ]
          },
          "metadata": {
            "needs_background": "light"
          }
        },
        {
          "output_type": "stream",
          "name": "stdout",
          "text": [
            "Quantiles\n",
            "0.01    2.0\n",
            "0.03    2.0\n",
            "0.10    3.0\n",
            "0.20    3.0\n",
            "0.50    4.0\n",
            "0.75    4.0\n",
            "0.90    5.0\n",
            "1.00    5.0\n",
            "Name: Overall_Rating, dtype: float64\n",
            "\n",
            "\n",
            "Plots for Column: Price_Rating\n"
          ]
        },
        {
          "output_type": "display_data",
          "data": {
            "image/png": "[encoded data removed]",
            "text/plain": [
              "<Figure size 720x576 with 1 Axes>"
            ]
          },
          "metadata": {
            "needs_background": "light"
          }
        },
        {
          "output_type": "stream",
          "name": "stdout",
          "text": [
            "Quantiles\n",
            "0.01    1.0\n",
            "0.03    1.0\n",
            "0.10    1.2\n",
            "0.20    2.0\n",
            "0.50    3.0\n",
            "0.75    4.0\n",
            "0.90    4.0\n",
            "1.00    5.0\n",
            "Name: Price_Rating, dtype: float64\n",
            "\n",
            "\n",
            "Plots for Column: Promotion_Rating\n"
          ]
        },
        {
          "output_type": "display_data",
          "data": {
            "image/png": "[encoded data removed]",
            "text/plain": [
              "<Figure size 720x576 with 1 Axes>"
            ]
          },
          "metadata": {
            "needs_background": "light"
          }
        },
        {
          "output_type": "stream",
          "name": "stdout",
          "text": [
            "Quantiles\n",
            "0.01    1.00\n",
            "0.03    1.36\n",
            "0.10    3.00\n",
            "0.20    3.00\n",
            "0.50    4.00\n",
            "0.75    5.00\n",
            "0.90    5.00\n",
            "1.00    5.00\n",
            "Name: Promotion_Rating, dtype: float64\n",
            "\n",
            "\n",
            "Plots for Column: Ambiance_Rating\n"
          ]
        },
        {
          "output_type": "display_data",
          "data": {
            "image/png": "[encoded data removed]",
            "text/plain": [
              "<Figure size 720x576 with 1 Axes>"
            ]
          },
          "metadata": {
            "needs_background": "light"
          }
        },
        {
          "output_type": "stream",
          "name": "stdout",
          "text": [
            "Quantiles\n",
            "0.01    2.0\n",
            "0.03    2.0\n",
            "0.10    3.0\n",
            "0.20    3.0\n",
            "0.50    4.0\n",
            "0.75    4.0\n",
            "0.90    5.0\n",
            "1.00    5.0\n",
            "Name: Ambiance_Rating, dtype: float64\n",
            "\n",
            "\n",
            "Plots for Column: Wifi_Rating\n"
          ]
        },
        {
          "output_type": "display_data",
          "data": {
            "image/png": "[encoded data removed]",
            "text/plain": [
              "<Figure size 720x576 with 1 Axes>"
            ]
          },
          "metadata": {
            "needs_background": "light"
          }
        },
        {
          "output_type": "stream",
          "name": "stdout",
          "text": [
            "Quantiles\n",
            "0.01    1.0\n",
            "0.03    1.0\n",
            "0.10    2.0\n",
            "0.20    3.0\n",
            "0.50    3.0\n",
            "0.75    4.0\n",
            "0.90    4.0\n",
            "1.00    5.0\n",
            "Name: Wifi_Rating, dtype: float64\n",
            "\n",
            "\n",
            "Plots for Column: Service_Rating\n"
          ]
        },
        {
          "output_type": "display_data",
          "data": {
            "image/png": "[encoded data removed]",
            "text/plain": [
              "<Figure size 720x576 with 1 Axes>"
            ]
          },
          "metadata": {
            "needs_background": "light"
          }
        },
        {
          "output_type": "stream",
          "name": "stdout",
          "text": [
            "Quantiles\n",
            "0.01    2.00\n",
            "0.03    2.36\n",
            "0.10    3.00\n",
            "0.20    3.00\n",
            "0.50    4.00\n",
            "0.75    4.00\n",
            "0.90    5.00\n",
            "1.00    5.00\n",
            "Name: Service_Rating, dtype: float64\n",
            "\n",
            "\n",
            "Plots for Column: Meeting_Rating\n"
          ]
        },
        {
          "output_type": "display_data",
          "data": {
            "image/png": "[encoded data removed]",
            "text/plain": [
              "<Figure size 720x576 with 1 Axes>"
            ]
          },
          "metadata": {
            "needs_background": "light"
          }
        },
        {
          "output_type": "stream",
          "name": "stdout",
          "text": [
            "Quantiles\n",
            "0.01    1.0\n",
            "0.03    2.0\n",
            "0.10    2.0\n",
            "0.20    3.0\n",
            "0.50    4.0\n",
            "0.75    4.0\n",
            "0.90    5.0\n",
            "1.00    5.0\n",
            "Name: Meeting_Rating, dtype: float64\n",
            "\n",
            "\n"
          ]
        }
      ]
    },
    {
      "cell_type": "code",
      "metadata": {
        "id": "zlvty4GnNOAw",
        "colab": {
          "base_uri": "https://localhost:8080/"
        },
        "outputId": "8ab6e63d-1720-49ae-fe89-9936d21c81fa"
      },
      "source": [
        "#counts how frequently customers visit Starbucks\n",
        "df['Visit_Frequency'].value_counts()\n",
        "#1-rarely\n",
        "#2-monthly\n",
        "#3-weekly\n",
        "#4-daily"
      ],
      "execution_count": null,
      "outputs": [
        {
          "output_type": "execute_result",
          "data": {
            "text/plain": [
              "1    76\n",
              "2    26\n",
              "3     9\n",
              "4     2\n",
              "Name: Visit_Frequency, dtype: int64"
            ]
          },
          "metadata": {},
          "execution_count": 106
        }
      ]
    },
    {
      "cell_type": "code",
      "metadata": {
        "id": "1HnaW8ZCYxeX"
      },
      "source": [
        "#Giving age-groups- numerical rankings\n",
        "df['Age'] = df['Age'].replace({'Below 20':1, 'From 20 to 29':2,'From 30 to 39':3,'40 and above':4})"
      ],
      "execution_count": null,
      "outputs": []
    },
    {
      "cell_type": "code",
      "metadata": {
        "colab": {
          "base_uri": "https://localhost:8080/",
          "height": 521
        },
        "id": "jaCrySxWZSSv",
        "outputId": "61d679b6-9bc9-4801-8192-4965fa2584a0"
      },
      "source": [
        "df.head()"
      ],
      "execution_count": null,
      "outputs": [
        {
          "output_type": "execute_result",
          "data": {
            "text/html": [
              "<div>\n",
              "<style scoped>\n",
              "    .dataframe tbody tr th:only-of-type {\n",
              "        vertical-align: middle;\n",
              "    }\n",
              "\n",
              "    .dataframe tbody tr th {\n",
              "        vertical-align: top;\n",
              "    }\n",
              "\n",
              "    .dataframe thead th {\n",
              "        text-align: right;\n",
              "    }\n",
              "</style>\n",
              "<table border=\"1\" class=\"dataframe\">\n",
              "  <thead>\n",
              "    <tr style=\"text-align: right;\">\n",
              "      <th></th>\n",
              "      <th>Timestamp</th>\n",
              "      <th>Gender</th>\n",
              "      <th>Age</th>\n",
              "      <th>Working_Status</th>\n",
              "      <th>Annual_Income</th>\n",
              "      <th>Visit_Frequency</th>\n",
              "      <th>Prefered Form of Consumption</th>\n",
              "      <th>Visit_Time</th>\n",
              "      <th>Nearest_Outlet</th>\n",
              "      <th>Membership_Status</th>\n",
              "      <th>Frequently_Purchased</th>\n",
              "      <th>Avg_Spend</th>\n",
              "      <th>Overall_Rating</th>\n",
              "      <th>Price_Rating</th>\n",
              "      <th>Promotion_Rating</th>\n",
              "      <th>Ambiance_Rating</th>\n",
              "      <th>Wifi_Rating</th>\n",
              "      <th>Service_Rating</th>\n",
              "      <th>Meeting_Rating</th>\n",
              "      <th>Promo_Ways</th>\n",
              "      <th>Customer_Loyalty</th>\n",
              "    </tr>\n",
              "  </thead>\n",
              "  <tbody>\n",
              "    <tr>\n",
              "      <th>0</th>\n",
              "      <td>2019/10/01 12:38:43 PM GMT+8</td>\n",
              "      <td>Female</td>\n",
              "      <td>2</td>\n",
              "      <td>Student</td>\n",
              "      <td>Less than RM25,000</td>\n",
              "      <td>1</td>\n",
              "      <td>Dine in</td>\n",
              "      <td>Between 30 minutes to 1 hour</td>\n",
              "      <td>within 1km</td>\n",
              "      <td>Yes</td>\n",
              "      <td>Coffee</td>\n",
              "      <td>Less than RM20</td>\n",
              "      <td>4</td>\n",
              "      <td>3</td>\n",
              "      <td>5</td>\n",
              "      <td>5</td>\n",
              "      <td>4</td>\n",
              "      <td>4</td>\n",
              "      <td>3</td>\n",
              "      <td>Starbucks Website/Apps;Social Media;Emails;Dea...</td>\n",
              "      <td>Yes</td>\n",
              "    </tr>\n",
              "    <tr>\n",
              "      <th>1</th>\n",
              "      <td>2019/10/01 12:38:54 PM GMT+8</td>\n",
              "      <td>Female</td>\n",
              "      <td>2</td>\n",
              "      <td>Student</td>\n",
              "      <td>Less than RM25,000</td>\n",
              "      <td>1</td>\n",
              "      <td>Take away</td>\n",
              "      <td>Below 30 minutes</td>\n",
              "      <td>1km - 3km</td>\n",
              "      <td>Yes</td>\n",
              "      <td>Cold drinks;Pastries</td>\n",
              "      <td>Less than RM20</td>\n",
              "      <td>4</td>\n",
              "      <td>3</td>\n",
              "      <td>4</td>\n",
              "      <td>4</td>\n",
              "      <td>4</td>\n",
              "      <td>5</td>\n",
              "      <td>2</td>\n",
              "      <td>Social Media;In Store displays</td>\n",
              "      <td>Yes</td>\n",
              "    </tr>\n",
              "    <tr>\n",
              "      <th>2</th>\n",
              "      <td>2019/10/01 12:38:56 PM GMT+8</td>\n",
              "      <td>Male</td>\n",
              "      <td>2</td>\n",
              "      <td>Employed</td>\n",
              "      <td>Less than RM25,000</td>\n",
              "      <td>2</td>\n",
              "      <td>Dine in</td>\n",
              "      <td>Between 30 minutes to 1 hour</td>\n",
              "      <td>more than 3km</td>\n",
              "      <td>Yes</td>\n",
              "      <td>Coffee</td>\n",
              "      <td>Less than RM20</td>\n",
              "      <td>4</td>\n",
              "      <td>3</td>\n",
              "      <td>4</td>\n",
              "      <td>4</td>\n",
              "      <td>4</td>\n",
              "      <td>4</td>\n",
              "      <td>3</td>\n",
              "      <td>In Store displays;Billboards</td>\n",
              "      <td>Yes</td>\n",
              "    </tr>\n",
              "    <tr>\n",
              "      <th>3</th>\n",
              "      <td>2019/10/01 12:39:08 PM GMT+8</td>\n",
              "      <td>Female</td>\n",
              "      <td>2</td>\n",
              "      <td>Student</td>\n",
              "      <td>Less than RM25,000</td>\n",
              "      <td>1</td>\n",
              "      <td>Take away</td>\n",
              "      <td>Below 30 minutes</td>\n",
              "      <td>more than 3km</td>\n",
              "      <td>No</td>\n",
              "      <td>Coffee</td>\n",
              "      <td>Less than RM20</td>\n",
              "      <td>2</td>\n",
              "      <td>1</td>\n",
              "      <td>4</td>\n",
              "      <td>3</td>\n",
              "      <td>3</td>\n",
              "      <td>3</td>\n",
              "      <td>3</td>\n",
              "      <td>Through friends and word of mouth</td>\n",
              "      <td>No</td>\n",
              "    </tr>\n",
              "    <tr>\n",
              "      <th>4</th>\n",
              "      <td>2019/10/01 12:39:20 PM GMT+8</td>\n",
              "      <td>Male</td>\n",
              "      <td>2</td>\n",
              "      <td>Student</td>\n",
              "      <td>Less than RM25,000</td>\n",
              "      <td>2</td>\n",
              "      <td>Take away</td>\n",
              "      <td>Between 30 minutes to 1 hour</td>\n",
              "      <td>1km - 3km</td>\n",
              "      <td>No</td>\n",
              "      <td>Coffee;Sandwiches</td>\n",
              "      <td>Around RM20 - RM40</td>\n",
              "      <td>3</td>\n",
              "      <td>3</td>\n",
              "      <td>4</td>\n",
              "      <td>2</td>\n",
              "      <td>2</td>\n",
              "      <td>3</td>\n",
              "      <td>3</td>\n",
              "      <td>Starbucks Website/Apps;Social Media</td>\n",
              "      <td>Yes</td>\n",
              "    </tr>\n",
              "  </tbody>\n",
              "</table>\n",
              "</div>"
            ],
            "text/plain": [
              "                      Timestamp  ... Customer_Loyalty\n",
              "0  2019/10/01 12:38:43 PM GMT+8  ...              Yes\n",
              "1  2019/10/01 12:38:54 PM GMT+8  ...              Yes\n",
              "2  2019/10/01 12:38:56 PM GMT+8  ...              Yes\n",
              "3  2019/10/01 12:39:08 PM GMT+8  ...               No\n",
              "4  2019/10/01 12:39:20 PM GMT+8  ...              Yes\n",
              "\n",
              "[5 rows x 21 columns]"
            ]
          },
          "metadata": {},
          "execution_count": 108
        }
      ]
    },
    {
      "cell_type": "code",
      "metadata": {
        "id": "f4Wo4uOXXpJG"
      },
      "source": [
        "#Creating a new database with only columns having integer values in order to do modelling\n",
        "df1=df[['Age','Visit_Frequency','Overall_Rating','Price_Rating','Promotion_Rating','Ambiance_Rating','Wifi_Rating','Service_Rating','Meeting_Rating']]"
      ],
      "execution_count": null,
      "outputs": []
    },
    {
      "cell_type": "code",
      "metadata": {
        "colab": {
          "base_uri": "https://localhost:8080/",
          "height": 443
        },
        "id": "f3KT9mGRXpMe",
        "outputId": "ad5c8c36-3d47-4e67-f0da-c49f4ad1281c"
      },
      "source": [
        "df1"
      ],
      "execution_count": null,
      "outputs": [
        {
          "output_type": "execute_result",
          "data": {
            "text/html": [
              "<div>\n",
              "<style scoped>\n",
              "    .dataframe tbody tr th:only-of-type {\n",
              "        vertical-align: middle;\n",
              "    }\n",
              "\n",
              "    .dataframe tbody tr th {\n",
              "        vertical-align: top;\n",
              "    }\n",
              "\n",
              "    .dataframe thead th {\n",
              "        text-align: right;\n",
              "    }\n",
              "</style>\n",
              "<table border=\"1\" class=\"dataframe\">\n",
              "  <thead>\n",
              "    <tr style=\"text-align: right;\">\n",
              "      <th></th>\n",
              "      <th>Age</th>\n",
              "      <th>Visit_Frequency</th>\n",
              "      <th>Overall_Rating</th>\n",
              "      <th>Price_Rating</th>\n",
              "      <th>Promotion_Rating</th>\n",
              "      <th>Ambiance_Rating</th>\n",
              "      <th>Wifi_Rating</th>\n",
              "      <th>Service_Rating</th>\n",
              "      <th>Meeting_Rating</th>\n",
              "    </tr>\n",
              "  </thead>\n",
              "  <tbody>\n",
              "    <tr>\n",
              "      <th>0</th>\n",
              "      <td>2</td>\n",
              "      <td>1</td>\n",
              "      <td>4</td>\n",
              "      <td>3</td>\n",
              "      <td>5</td>\n",
              "      <td>5</td>\n",
              "      <td>4</td>\n",
              "      <td>4</td>\n",
              "      <td>3</td>\n",
              "    </tr>\n",
              "    <tr>\n",
              "      <th>1</th>\n",
              "      <td>2</td>\n",
              "      <td>1</td>\n",
              "      <td>4</td>\n",
              "      <td>3</td>\n",
              "      <td>4</td>\n",
              "      <td>4</td>\n",
              "      <td>4</td>\n",
              "      <td>5</td>\n",
              "      <td>2</td>\n",
              "    </tr>\n",
              "    <tr>\n",
              "      <th>2</th>\n",
              "      <td>2</td>\n",
              "      <td>2</td>\n",
              "      <td>4</td>\n",
              "      <td>3</td>\n",
              "      <td>4</td>\n",
              "      <td>4</td>\n",
              "      <td>4</td>\n",
              "      <td>4</td>\n",
              "      <td>3</td>\n",
              "    </tr>\n",
              "    <tr>\n",
              "      <th>3</th>\n",
              "      <td>2</td>\n",
              "      <td>1</td>\n",
              "      <td>2</td>\n",
              "      <td>1</td>\n",
              "      <td>4</td>\n",
              "      <td>3</td>\n",
              "      <td>3</td>\n",
              "      <td>3</td>\n",
              "      <td>3</td>\n",
              "    </tr>\n",
              "    <tr>\n",
              "      <th>4</th>\n",
              "      <td>2</td>\n",
              "      <td>2</td>\n",
              "      <td>3</td>\n",
              "      <td>3</td>\n",
              "      <td>4</td>\n",
              "      <td>2</td>\n",
              "      <td>2</td>\n",
              "      <td>3</td>\n",
              "      <td>3</td>\n",
              "    </tr>\n",
              "    <tr>\n",
              "      <th>...</th>\n",
              "      <td>...</td>\n",
              "      <td>...</td>\n",
              "      <td>...</td>\n",
              "      <td>...</td>\n",
              "      <td>...</td>\n",
              "      <td>...</td>\n",
              "      <td>...</td>\n",
              "      <td>...</td>\n",
              "      <td>...</td>\n",
              "    </tr>\n",
              "    <tr>\n",
              "      <th>117</th>\n",
              "      <td>4</td>\n",
              "      <td>2</td>\n",
              "      <td>3</td>\n",
              "      <td>3</td>\n",
              "      <td>5</td>\n",
              "      <td>3</td>\n",
              "      <td>2</td>\n",
              "      <td>4</td>\n",
              "      <td>4</td>\n",
              "    </tr>\n",
              "    <tr>\n",
              "      <th>118</th>\n",
              "      <td>2</td>\n",
              "      <td>2</td>\n",
              "      <td>5</td>\n",
              "      <td>5</td>\n",
              "      <td>5</td>\n",
              "      <td>5</td>\n",
              "      <td>5</td>\n",
              "      <td>5</td>\n",
              "      <td>5</td>\n",
              "    </tr>\n",
              "    <tr>\n",
              "      <th>119</th>\n",
              "      <td>2</td>\n",
              "      <td>1</td>\n",
              "      <td>3</td>\n",
              "      <td>2</td>\n",
              "      <td>4</td>\n",
              "      <td>3</td>\n",
              "      <td>3</td>\n",
              "      <td>3</td>\n",
              "      <td>4</td>\n",
              "    </tr>\n",
              "    <tr>\n",
              "      <th>120</th>\n",
              "      <td>2</td>\n",
              "      <td>1</td>\n",
              "      <td>4</td>\n",
              "      <td>4</td>\n",
              "      <td>4</td>\n",
              "      <td>4</td>\n",
              "      <td>4</td>\n",
              "      <td>4</td>\n",
              "      <td>4</td>\n",
              "    </tr>\n",
              "    <tr>\n",
              "      <th>121</th>\n",
              "      <td>2</td>\n",
              "      <td>1</td>\n",
              "      <td>1</td>\n",
              "      <td>1</td>\n",
              "      <td>5</td>\n",
              "      <td>4</td>\n",
              "      <td>3</td>\n",
              "      <td>3</td>\n",
              "      <td>2</td>\n",
              "    </tr>\n",
              "  </tbody>\n",
              "</table>\n",
              "<p>113 rows × 9 columns</p>\n",
              "</div>"
            ],
            "text/plain": [
              "     Age  Visit_Frequency  ...  Service_Rating  Meeting_Rating\n",
              "0      2                1  ...               4               3\n",
              "1      2                1  ...               5               2\n",
              "2      2                2  ...               4               3\n",
              "3      2                1  ...               3               3\n",
              "4      2                2  ...               3               3\n",
              "..   ...              ...  ...             ...             ...\n",
              "117    4                2  ...               4               4\n",
              "118    2                2  ...               5               5\n",
              "119    2                1  ...               3               4\n",
              "120    2                1  ...               4               4\n",
              "121    2                1  ...               3               2\n",
              "\n",
              "[113 rows x 9 columns]"
            ]
          },
          "metadata": {},
          "execution_count": 110
        }
      ]
    },
    {
      "cell_type": "code",
      "metadata": {
        "id": "B14_cjBWXpSn"
      },
      "source": [
        "#Giving X all the values accept the target variable(Visit frequency)\n",
        "#Y=target variable\n",
        "X = df1.drop('Visit_Frequency', axis = 1)\n",
        "y = df1['Visit_Frequency']"
      ],
      "execution_count": null,
      "outputs": []
    },
    {
      "cell_type": "code",
      "metadata": {
        "id": "E4G3toc-aflK"
      },
      "source": [
        "from sklearn.model_selection import train_test_split"
      ],
      "execution_count": null,
      "outputs": []
    },
    {
      "cell_type": "code",
      "metadata": {
        "id": "WOGKfj8Safoo"
      },
      "source": [
        "X_train, X_test, y_train, y_test = train_test_split(X,y, stratify = y, test_size = 0.3) #training data=30% of dataset"
      ],
      "execution_count": null,
      "outputs": []
    },
    {
      "cell_type": "code",
      "metadata": {
        "id": "qYeHL8JhafrC"
      },
      "source": [
        "from sklearn.tree import DecisionTreeClassifier\n",
        "from sklearn.metrics import accuracy_score\n",
        "from sklearn.ensemble import RandomForestClassifier"
      ],
      "execution_count": null,
      "outputs": []
    },
    {
      "cell_type": "code",
      "metadata": {
        "id": "xB--bbZiao7R"
      },
      "source": [
        "tree = DecisionTreeClassifier()\n",
        "rf = RandomForestClassifier()"
      ],
      "execution_count": null,
      "outputs": []
    },
    {
      "cell_type": "markdown",
      "metadata": {
        "id": "Z7lN-sOJwNyV"
      },
      "source": [
        "DEFINING DIFFERENT CLASSIFICATION MODELS AND CHECKING ACCURACIES OF THE SAME, THEREBY FINDING THE MOST ACCURATE/SUITABLE MODEL."
      ]
    },
    {
      "cell_type": "code",
      "metadata": {
        "id": "pg_OGznpapNC"
      },
      "source": [
        "Dt_model = tree.fit(X_train,y_train)"
      ],
      "execution_count": null,
      "outputs": []
    },
    {
      "cell_type": "code",
      "metadata": {
        "colab": {
          "base_uri": "https://localhost:8080/"
        },
        "id": "PDtOLjeyapRO",
        "outputId": "d6c09e25-3a75-4ec1-e9a8-c3907ebd81c3"
      },
      "source": [
        "Dt_model"
      ],
      "execution_count": null,
      "outputs": [
        {
          "output_type": "execute_result",
          "data": {
            "text/plain": [
              "DecisionTreeClassifier(ccp_alpha=0.0, class_weight=None, criterion='gini',\n",
              "                       max_depth=None, max_features=None, max_leaf_nodes=None,\n",
              "                       min_impurity_decrease=0.0, min_impurity_split=None,\n",
              "                       min_samples_leaf=1, min_samples_split=2,\n",
              "                       min_weight_fraction_leaf=0.0, presort='deprecated',\n",
              "                       random_state=None, splitter='best')"
            ]
          },
          "metadata": {},
          "execution_count": 117
        }
      ]
    },
    {
      "cell_type": "code",
      "metadata": {
        "colab": {
          "base_uri": "https://localhost:8080/"
        },
        "id": "0n6_Kg2iaftq",
        "outputId": "8213f67b-5987-4db5-e383-f365357cdfb8"
      },
      "source": [
        "score_acc1 = accuracy_score(y_test, Dt_model.predict(X_test))\n",
        "score_acc1"
      ],
      "execution_count": null,
      "outputs": [
        {
          "output_type": "execute_result",
          "data": {
            "text/plain": [
              "0.5882352941176471"
            ]
          },
          "metadata": {},
          "execution_count": 118
        }
      ]
    },
    {
      "cell_type": "code",
      "metadata": {
        "id": "4ETWXDc9cO7T"
      },
      "source": [
        "rf_model = rf.fit(X_train,y_train)"
      ],
      "execution_count": null,
      "outputs": []
    },
    {
      "cell_type": "code",
      "metadata": {
        "colab": {
          "base_uri": "https://localhost:8080/"
        },
        "id": "UW7s9_4TcPDH",
        "outputId": "130c2ce7-5bfe-4b65-efb6-1f5492c55e43"
      },
      "source": [
        "rf_model"
      ],
      "execution_count": null,
      "outputs": [
        {
          "output_type": "execute_result",
          "data": {
            "text/plain": [
              "RandomForestClassifier(bootstrap=True, ccp_alpha=0.0, class_weight=None,\n",
              "                       criterion='gini', max_depth=None, max_features='auto',\n",
              "                       max_leaf_nodes=None, max_samples=None,\n",
              "                       min_impurity_decrease=0.0, min_impurity_split=None,\n",
              "                       min_samples_leaf=1, min_samples_split=2,\n",
              "                       min_weight_fraction_leaf=0.0, n_estimators=100,\n",
              "                       n_jobs=None, oob_score=False, random_state=None,\n",
              "                       verbose=0, warm_start=False)"
            ]
          },
          "metadata": {},
          "execution_count": 120
        }
      ]
    },
    {
      "cell_type": "code",
      "metadata": {
        "colab": {
          "base_uri": "https://localhost:8080/"
        },
        "id": "Ug-PnsVmcPJ-",
        "outputId": "81f7b424-c6cd-4a15-9ef4-ae8ed540cf36"
      },
      "source": [
        "score_acc2 = accuracy_score(y_test, rf_model.predict(X_test))\n",
        "score_acc2"
      ],
      "execution_count": null,
      "outputs": [
        {
          "output_type": "execute_result",
          "data": {
            "text/plain": [
              "0.6176470588235294"
            ]
          },
          "metadata": {},
          "execution_count": 121
        }
      ]
    },
    {
      "cell_type": "markdown",
      "metadata": {
        "id": "NAAwXVjJxTyW"
      },
      "source": [
        "We can see that random forest claasifier has the highest accuracy score"
      ]
    },
    {
      "cell_type": "code",
      "metadata": {
        "id": "956HrOWIxZqR"
      },
      "source": [
        ""
      ],
      "execution_count": null,
      "outputs": []
    }
  ]
}